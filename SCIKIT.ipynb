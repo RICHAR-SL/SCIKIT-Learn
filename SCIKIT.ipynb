{
  "nbformat": 4,
  "nbformat_minor": 0,
  "metadata": {
    "colab": {
      "provenance": [],
      "authorship_tag": "ABX9TyO6YM/gyK0PnBHzvw1IvSVE",
      "include_colab_link": true
    },
    "kernelspec": {
      "name": "python3",
      "display_name": "Python 3"
    },
    "language_info": {
      "name": "python"
    }
  },
  "cells": [
    {
      "cell_type": "markdown",
      "metadata": {
        "id": "view-in-github",
        "colab_type": "text"
      },
      "source": [
        "<a href=\"https://colab.research.google.com/github/RICHAR-SL/SCIKIT-Learn/blob/main/SCIKIT.ipynb\" target=\"_parent\"><img src=\"https://colab.research.google.com/assets/colab-badge.svg\" alt=\"Open In Colab\"/></a>"
      ]
    },
    {
      "cell_type": "markdown",
      "source": [
        "***IMPORTAR***"
      ],
      "metadata": {
        "id": "Ft5ZWLRRpsx2"
      }
    },
    {
      "cell_type": "code",
      "execution_count": 5,
      "metadata": {
        "collapsed": true,
        "id": "0IIqRPoCnOju"
      },
      "outputs": [],
      "source": [
        "import numpy as np\n",
        "\n",
        "X=np.load('/content/particiones-datos-balanceados.npz')['X']\n",
        "Y=np.load('/content/particiones-datos-balanceados.npz')['Y']\n"
      ]
    },
    {
      "cell_type": "code",
      "source": [
        "print(X.shape)\n",
        "print(Y.shape)"
      ],
      "metadata": {
        "colab": {
          "base_uri": "https://localhost:8080/"
        },
        "collapsed": true,
        "id": "034Q82CDsh_D",
        "outputId": "f22e6cfa-715a-4b82-f30f-2197543a2ca4"
      },
      "execution_count": 6,
      "outputs": [
        {
          "output_type": "stream",
          "name": "stdout",
          "text": [
            "(20, 3)\n",
            "(20,)\n"
          ]
        }
      ]
    },
    {
      "cell_type": "code",
      "source": [
        "from sklearn.model_selection import train_test_split"
      ],
      "metadata": {
        "id": "d3Z4Vjutty_R"
      },
      "execution_count": 12,
      "outputs": []
    },
    {
      "cell_type": "code",
      "source": [
        "#Partición 60% (train) y resto(40%)\n",
        "x_train, x_resto, y_train, y_resto = train_test_split(\n",
        "    X,Y,test_size=0.4, random_state=123\n",
        ")\n",
        "\n",
        "#Particion \"resto\" en 2 mitades\n",
        "x_val,x_test,y_val,y_test =train_test_split(\n",
        "    x_resto,y_resto, test_size=0.5, random_state=321\n",
        ")\n",
        "\n",
        "#verificacion\n",
        "print('----TAMAÑOS:---')\n",
        "print('\\tDataset original: ',X.shape, Y.shape)\n",
        "print('\\tEntrenamiento: ',x_train.shape, y_train.shape)\n",
        "print('\\tValidadcion: ',x_val.shape,y_val.shape)\n",
        "print('\\tPrueba: ', x_test.shape,y_test.shape)\n",
        "\n",
        "print('Proporciones categorias (0/1): ')\n",
        "print(f'\\tDataset original: {np.sum(Y==0)/len(Y)}/{np.sum(Y==1)/len(Y)}')\n",
        "print(f'\\tEntrenamiento: {np.sum(y_train==0)/len(y_train)}/{np.sum(y_train==1)/len(y_train)}')\n",
        "print(f'\\tValidación:{np.sum(y_val==0)/len(y_val)}/{np.sum(y_val==1)/len(y_val)}')\n",
        "print(f'\\tPrueba: {np.sum(y_test==0)/len(y_test)}/{np.sum(y_test==1)/len(y_test)}')\n"
      ],
      "metadata": {
        "colab": {
          "base_uri": "https://localhost:8080/"
        },
        "id": "P_gm-Gkdvp1f",
        "outputId": "9a83ccab-eb20-44c4-c7a4-021ec96f3ca6"
      },
      "execution_count": 13,
      "outputs": [
        {
          "output_type": "stream",
          "name": "stdout",
          "text": [
            "----TAMAÑOS:---\n",
            "\tDataset original:  (20, 3) (20,)\n",
            "\tEntrenamiento:  (12, 3) (12,)\n",
            "\tValidadcion:  (4, 3) (4,)\n",
            "\tPrueba:  (4, 3) (4,)\n",
            "Proporciones categorias (0/1): \n",
            "\tDataset original: 0.55/0.45\n",
            "\tEntrenamiento: 0.5833333333333334/0.4166666666666667\n",
            "\tValidación:0.5/0.5\n",
            "\tPrueba: 0.5/0.5\n"
          ]
        }
      ]
    },
    {
      "cell_type": "markdown",
      "source": [
        "datos desbalanceados\n"
      ],
      "metadata": {
        "id": "BT2DQkPLvpLn"
      }
    },
    {
      "cell_type": "code",
      "source": [
        "X=np.load('/content/particiones-datos-desbalanceados.npz')['X']\n",
        "Y=np.load('/content/particiones-datos-desbalanceados.npz')['Y']\n",
        "print(X)\n",
        "print(Y)\n"
      ],
      "metadata": {
        "colab": {
          "base_uri": "https://localhost:8080/"
        },
        "id": "RzHJF2Sr1wto",
        "outputId": "914409a8-38cc-4642-f502-79c16c9d12ac"
      },
      "execution_count": 15,
      "outputs": [
        {
          "output_type": "stream",
          "name": "stdout",
          "text": [
            "[[-0.75275929  1.11852895 -7.5592353 ]\n",
            " [ 2.70428584 -3.60506139 -0.0964618 ]\n",
            " [ 1.39196365 -2.07855351 -9.31222958]\n",
            " [ 0.59195091 -1.33638157  8.18640804]\n",
            " [-2.06388816 -0.43930016 -4.82440037]\n",
            " [-2.06403288  2.85175961  3.25044569]\n",
            " [-2.65149833 -3.00326218 -3.76577848]\n",
            " [ 2.19705687  0.14234438  0.40136042]\n",
            " [ 0.60669007  0.92414569  0.93420559]\n",
            " [ 1.24843547 -4.53549587 -6.30291089]\n",
            " [-2.87649303  1.07544852  9.39169256]\n",
            " [ 2.81945911 -3.29475876  5.50265647]\n",
            " [ 1.99465584 -4.34948407  8.78997883]\n",
            " [-1.72596534  4.48885537  7.89654701]\n",
            " [-1.9090502   4.65632033  1.95799958]\n",
            " [-1.89957294  3.08397348  8.4374847 ]\n",
            " [-1.17454654 -1.95386231 -8.23014996]\n",
            " [ 0.14853859 -4.02327886 -6.08034275]\n",
            " [-0.40832989  1.84233027 -9.09545422]\n",
            " [-1.25262516 -0.59847506 -3.49339338]]\n",
            "[1 0 1 0 1 0 0 0 0 1 0 0 0 0 0 0 0 0 0 0]\n"
          ]
        }
      ]
    },
    {
      "cell_type": "code",
      "source": [
        "\n",
        "#Particion con muestreo estratificado\n",
        "#Partición 60% (train) y resto(40%)\n",
        "x_train, x_resto, y_train, y_resto = train_test_split(\n",
        "    X,Y,test_size=0.4, random_state=20,\n",
        "    stratify=Y #Muestreo esttratificado\n",
        ")\n",
        "\n",
        "#Particion \"resto\" en 2 mitades\n",
        "x_val,x_test,y_val,y_test =train_test_split(\n",
        "    x_resto,y_resto, test_size=0.5, random_state=321,\n",
        "    stratify=y_resto,\n",
        ")\n",
        "\n",
        "#verificacion\n",
        "print('----TAMAÑOS:---')\n",
        "print('\\tDataset original: ',X.shape, Y.shape)\n",
        "print('\\tEntrenamiento: ',x_train.shape, y_train.shape)\n",
        "print('\\tValidadcion: ',x_val.shape,y_val.shape)\n",
        "print('\\tPrueba: ', x_test.shape,y_test.shape)\n",
        "\n",
        "print('Proporciones categorias (0s/1s): ')\n",
        "print(f'\\tDataset original: {np.sum(Y==0)/len(Y)}/{np.sum(Y==1)/len(Y)}')\n",
        "print(f'\\tEntrenamiento: {np.sum(y_train==0)/len(y_train)}/{np.sum(y_train==1)/len(y_train)}')\n",
        "print(f'\\tValidación:{np.sum(y_val==0)/len(y_val)}/{np.sum(y_val==1)/len(y_val)}')\n",
        "print(f'\\tPrueba: {np.sum(y_test==0)/len(y_test)}/{np.sum(y_test==1)/len(y_test)}')\n"
      ],
      "metadata": {
        "colab": {
          "base_uri": "https://localhost:8080/"
        },
        "id": "jMejHkvj4LYm",
        "outputId": "641bd408-8b8b-465a-e68e-ef581147d8f2"
      },
      "execution_count": 16,
      "outputs": [
        {
          "output_type": "stream",
          "name": "stdout",
          "text": [
            "----TAMAÑOS:---\n",
            "\tDataset original:  (20, 3) (20,)\n",
            "\tEntrenamiento:  (12, 3) (12,)\n",
            "\tValidadcion:  (4, 3) (4,)\n",
            "\tPrueba:  (4, 3) (4,)\n",
            "Proporciones categorias (0s/1s): \n",
            "\tDataset original: 0.8/0.2\n",
            "\tEntrenamiento: 0.8333333333333334/0.16666666666666666\n",
            "\tValidación:0.75/0.25\n",
            "\tPrueba: 0.75/0.25\n"
          ]
        }
      ]
    },
    {
      "cell_type": "code",
      "source": [
        "print(f'x_train: {x_train.min(axis=0)}/{x_train.max(axis=0)}')\n",
        "print(f'x_val: {x_val.min(axis=0)}/{x_val.max(axis=0)}')\n",
        "print(f'xtest: {x_test.min(axis=0)}/{x_test.max(axis=0)}')\n",
        "\n",
        "\n",
        "\n"
      ],
      "metadata": {
        "colab": {
          "base_uri": "https://localhost:8080/"
        },
        "id": "WWTBMIEm6a_Q",
        "outputId": "54bbd08b-a5b5-43a3-dfaf-9cf3f03d9a08"
      },
      "execution_count": 17,
      "outputs": [
        {
          "output_type": "stream",
          "name": "stdout",
          "text": [
            "x_train: [-2.87649303 -4.34948407 -9.31222958]/[2.81945911 3.08397348 9.39169256]\n",
            "x_val: [-2.65149833 -3.00326218 -9.09545422]/[2.19705687 1.84233027 0.40136042]\n",
            "xtest: [-1.9090502  -4.53549587 -8.23014996]/[1.24843547 4.65632033 7.89654701]\n"
          ]
        }
      ]
    }
  ]
}